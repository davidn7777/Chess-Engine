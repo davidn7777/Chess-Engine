{
 "cells": [
  {
   "cell_type": "code",
   "execution_count": 35,
   "metadata": {},
   "outputs": [],
   "source": [
    "import ChessGame"
   ]
  },
  {
   "cell_type": "code",
   "execution_count": null,
   "metadata": {},
   "outputs": [],
   "source": [
    "\"\"\"\n",
    "Expectations, build a chat bot that has chess game tooling built into it. I.e. gpt4 with its text to image tooling but instead have the capability of playing chess\n",
    "\n",
    "when asked to play a game the Ai agent will go through steps of:\n",
    "    -setup the board\n",
    "    -start the streamlit functionality to support the game\n",
    "\n",
    "When the user inputs a move the ai agent will:\n",
    "    -retreive the list of available moves\n",
    "    -RAG a knowlage store of professional moves and pick the appropriate one (optional extra)\n",
    "    -play the move on the board\n",
    "\"\"\"\n"
   ]
  }
 ],
 "metadata": {
  "kernelspec": {
   "display_name": "Python 3",
   "language": "python",
   "name": "python3"
  },
  "language_info": {
   "codemirror_mode": {
    "name": "ipython",
    "version": 3
   },
   "file_extension": ".py",
   "mimetype": "text/x-python",
   "name": "python",
   "nbconvert_exporter": "python",
   "pygments_lexer": "ipython3",
   "version": "3.10.6"
  }
 },
 "nbformat": 4,
 "nbformat_minor": 2
}
